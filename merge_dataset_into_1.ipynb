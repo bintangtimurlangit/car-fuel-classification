{
 "cells": [
  {
   "cell_type": "code",
   "execution_count": 1,
   "id": "e6935b88-e271-4f88-bdf8-ad4a3ade548c",
   "metadata": {},
   "outputs": [],
   "source": [
    "import pandas as pd\n",
    "import matplotlib.pyplot as plt\n",
    "import numpy as np\n",
    "from sklearn.model_selection import train_test_split\n",
    "from sklearn.svm import SVC\n",
    "from sklearn.metrics import accuracy_score\n",
    "from mpl_toolkits.mplot3d import Axes3D"
   ]
  },
  {
   "cell_type": "code",
   "execution_count": 9,
   "id": "608bfb47-60aa-48eb-81f3-935e6766915a",
   "metadata": {},
   "outputs": [],
   "source": [
    "# Read the existing 'Automobile.csv' file into a DataFrame\n",
    "data = pd.read_csv('Automobile_Final_1.csv')\n",
    "\n",
    "# Read the new CSV file containing additional entries\n",
    "new_data = pd.read_csv('data_3a.csv')\n",
    "\n",
    "# Define a mapping of manufacturers to their corresponding origin\n",
    "manufacturer_to_origin = {\n",
    "    #japan\n",
    "    'Toyota': 'japan',\n",
    "    'Subaru': 'japan',\n",
    "    'Isuzu': 'japan',\n",
    "    'Mitsubishi': 'japan',\n",
    "    'Honda': 'japan',\n",
    "    'Suzuki': 'japan',\n",
    "    'Lexus': 'japan',\n",
    "    'Infiniti': 'japan',\n",
    "    'Acura': 'japan',\n",
    "    'Mazda': 'japan',\n",
    "    #europe\n",
    "    'Volkswagen': 'europe',\n",
    "    'Opel': 'europe',\n",
    "    'BMW': 'europe',\n",
    "    'Renault': 'europe',\n",
    "    'Audi': 'europe',\n",
    "    'Mercedes-Benz': 'europe',\n",
    "    'Peugeot': 'europe',\n",
    "    'Citroen': 'europe',\n",
    "    'Skoda': 'europe',\n",
    "    'Fiat': 'europe',\n",
    "    'Volvo': 'europe',\n",
    "    'Seat': 'europe',\n",
    "    'Rover': 'europe',\n",
    "    'Alfa Romeo': 'europe',\n",
    "    'Land Rover': 'europe',\n",
    "    'Iveco': 'europe',\n",
    "    'Lancia': 'europe',\n",
    "    'Mini': 'europe',\n",
    "    'Porsche': 'europe',\n",
    "    'Dacia': 'europe',\n",
    "    'Jaguar': 'europe',\n",
    "    'Buick': 'europe',\n",
    "    #usa\n",
    "    'Ford': 'usa',\n",
    "    'Chevrolet': 'usa',\n",
    "    'Chrysler': 'usa',\n",
    "    'Dodge': 'usa',\n",
    "    'Jeep': 'usa',\n",
    "    'Cadillac': 'usa',\n",
    "    'Pontiac': 'usa',\n",
    "    'Lincoln': 'usa'\n",
    "   \n",
    "}\n",
    "\n",
    "# Filter the new entries based on manufacturer name and select relevant features\n",
    "for manufacturer, origin in manufacturer_to_origin.items():\n",
    "    manufacturer_entries = new_data[new_data['Make'].str.contains(manufacturer)] \n",
    "    manufacturer_entries = manufacturer_entries[['Model', 'Year', 'Engine HP', 'Engine Cylinders', 'city mpg']] #'displacement'\n",
    "    \n",
    "    # Rename the columns to match the columns in the 'Automobile.csv' file\n",
    "    manufacturer_entries.rename(columns={'Model': 'name', 'Year':'model_year', 'Engine Cylinders':'cylinders', 'Engine HP':'horsepower', 'city mpg':'mpg'}, inplace=True)\n",
    "   # engine_capacity\n",
    "    \n",
    "    # Assign the origin\n",
    "    manufacturer_entries['origin'] = origin\n",
    "    # Append to the existing DataFrame\n",
    "    data = pd.concat([data, manufacturer_entries], ignore_index=True)"
   ]
  },
  {
   "cell_type": "code",
   "execution_count": 29,
   "id": "d503e416-9b20-49dd-a371-e6bf19729412",
   "metadata": {},
   "outputs": [],
   "source": [
    "data.to_csv('Automobile_Final_2.csv', index=False)"
   ]
  },
  {
   "cell_type": "code",
   "execution_count": 31,
   "id": "2147f89a-9be7-4f59-8556-ce900b76aaa4",
   "metadata": {},
   "outputs": [],
   "source": [
    "data = pd.read_csv('Automobile_Final_1.csv')"
   ]
  },
  {
   "cell_type": "code",
   "execution_count": 32,
   "id": "b71a4192-132c-433b-91aa-b0a4e42fad4d",
   "metadata": {},
   "outputs": [
    {
     "name": "stdout",
     "output_type": "stream",
     "text": [
      "   origin  count\n",
      "0  europe   2798\n",
      "1   japan   3301\n",
      "2     usa   3813\n"
     ]
    }
   ],
   "source": [
    "df = pd.DataFrame(data)\n",
    "\n",
    "# Mengelompokkan mobil berdasarkan origin dan menghitung jumlah mobil dalam setiap origin\n",
    "grouped_origin = df.groupby('origin').size().reset_index(name='count')\n",
    "\n",
    "print(grouped_origin)"
   ]
  },
  {
   "cell_type": "code",
   "execution_count": 18,
   "id": "4c0d2eb9-0aa0-49c5-9495-ea2dfc1b8313",
   "metadata": {},
   "outputs": [],
   "source": [
    "#usa_data_without_nan = data[data['origin'] == 'usa'].dropna()\n",
    "#usa_data_without_nan"
   ]
  },
  {
   "cell_type": "code",
   "execution_count": 33,
   "id": "677ff4f7-2201-4ea1-97be-4b6ca9a2ad78",
   "metadata": {},
   "outputs": [
    {
     "data": {
      "text/plain": [
       "Index(['name', 'mpg', 'cylinders', 'displacement', 'horsepower', 'weight',\n",
       "       'acceleration', 'model_year', 'origin'],\n",
       "      dtype='object')"
      ]
     },
     "execution_count": 33,
     "metadata": {},
     "output_type": "execute_result"
    }
   ],
   "source": [
    "data.columns"
   ]
  },
  {
   "cell_type": "code",
   "execution_count": 34,
   "id": "c03c2ed1-6571-45f0-811e-14cbd0eeec15",
   "metadata": {},
   "outputs": [],
   "source": [
    "# Drop the specified columns\n",
    "data.drop(columns=['displacement', 'weight', 'acceleration'], inplace=True)\n"
   ]
  },
  {
   "cell_type": "code",
   "execution_count": 35,
   "id": "ccfbdbbc-d55e-459f-bd45-3f5f623ec0cd",
   "metadata": {},
   "outputs": [],
   "source": [
    "# Drop rows with NaN values\n",
    "data.dropna(inplace=True)"
   ]
  },
  {
   "cell_type": "code",
   "execution_count": 36,
   "id": "30d4ef54-d212-47d1-9f75-73ad83683db2",
   "metadata": {},
   "outputs": [
    {
     "name": "stdout",
     "output_type": "stream",
     "text": [
      "NaN values in column 'name':\n",
      "Series([], Name: name, dtype: object)\n",
      "\n",
      "NaN values in column 'mpg':\n",
      "Series([], Name: mpg, dtype: float64)\n",
      "\n",
      "NaN values in column 'cylinders':\n",
      "Series([], Name: cylinders, dtype: float64)\n",
      "\n",
      "NaN values in column 'horsepower':\n",
      "Series([], Name: horsepower, dtype: float64)\n",
      "\n",
      "NaN values in column 'model_year':\n",
      "Series([], Name: model_year, dtype: int64)\n",
      "\n",
      "NaN values in column 'origin':\n",
      "Series([], Name: origin, dtype: object)\n",
      "\n"
     ]
    }
   ],
   "source": [
    "# Iterate through each column\n",
    "for column in data.columns:\n",
    "    # Filter NaN values in the column\n",
    "    nan_values = data[column][data[column].isna()]\n",
    "    \n",
    "    # Display column name and corresponding NaN values\n",
    "    print(f\"NaN values in column '{column}':\")\n",
    "    print(nan_values)\n",
    "    print()\n"
   ]
  },
  {
   "cell_type": "code",
   "execution_count": 37,
   "id": "2d050dcf-e8da-4c8a-a891-84d372aba6f1",
   "metadata": {},
   "outputs": [
    {
     "name": "stdout",
     "output_type": "stream",
     "text": [
      "   origin  count\n",
      "0  europe   2791\n",
      "1   japan   3273\n",
      "2     usa   3780\n"
     ]
    }
   ],
   "source": [
    "df = pd.DataFrame(data)\n",
    "\n",
    "# Mengelompokkan mobil berdasarkan origin dan menghitung jumlah mobil dalam setiap origin\n",
    "grouped_origin = df.groupby('origin').size().reset_index(name='count')\n",
    "\n",
    "print(grouped_origin)"
   ]
  },
  {
   "cell_type": "code",
   "execution_count": 38,
   "id": "ac28c91d-b276-49dd-b17b-87aa3a5d412e",
   "metadata": {},
   "outputs": [],
   "source": [
    "data.to_csv('Automobile_Final_2.csv', index=False)"
   ]
  },
  {
   "cell_type": "code",
   "execution_count": 39,
   "id": "d765d2dc-2b96-4858-b1da-df92afb9c224",
   "metadata": {},
   "outputs": [
    {
     "name": "stdout",
     "output_type": "stream",
     "text": [
      "                           name   mpg  cylinders  horsepower model_year origin\n",
      "0     chevrolet chevelle malibu  18.0        8.0       130.0       1970    usa\n",
      "1             buick skylark 320  15.0        8.0       165.0       1970    usa\n",
      "2            plymouth satellite  18.0        8.0       150.0       1970    usa\n",
      "3                 amc rebel sst  16.0        8.0       150.0       1970    usa\n",
      "4                   ford torino  17.0        8.0       140.0       1970    usa\n",
      "...                         ...   ...        ...         ...        ...    ...\n",
      "9907                   Town Car  16.0        8.0       239.0       2011    usa\n",
      "9908                   Town Car  16.0        8.0       239.0       2011    usa\n",
      "9909                   Town Car  16.0        8.0       239.0       2011    usa\n",
      "9910                   Town Car  16.0        8.0       239.0       2011    usa\n",
      "9911                     Zephyr  17.0        6.0       221.0       2006    usa\n",
      "\n",
      "[9844 rows x 6 columns]\n"
     ]
    }
   ],
   "source": [
    "# Convert 'model_year' column to string\n",
    "data['model_year'] = data['model_year'].astype(str)\n",
    "\n",
    "# Conditionally update the 'model_year' column\n",
    "data['model_year'] = data['model_year'].apply(lambda x: '19' + x if len(x) == 2 and int(x) < 83 else x)\n",
    "\n",
    "# Display the DataFrame to verify the changes\n",
    "print(data)\n"
   ]
  },
  {
   "cell_type": "code",
   "execution_count": 40,
   "id": "56cebfc1-a72d-41b9-a5f3-6ce6612ec396",
   "metadata": {},
   "outputs": [],
   "source": [
    "data.to_csv('Automobile_Final_2.csv', index=False)"
   ]
  },
  {
   "cell_type": "code",
   "execution_count": 41,
   "id": "bb61fb2f-c7bc-45d3-8a96-de87ba678751",
   "metadata": {},
   "outputs": [
    {
     "name": "stdout",
     "output_type": "stream",
     "text": [
      "   origin  count\n",
      "0  europe   2791\n",
      "1   japan   3273\n",
      "2     usa   3780\n"
     ]
    }
   ],
   "source": [
    "df = pd.DataFrame(data)\n",
    "\n",
    "# Mengelompokkan mobil berdasarkan origin dan menghitung jumlah mobil dalam setiap origin\n",
    "grouped_origin = df.groupby('origin').size().reset_index(name='count')\n",
    "\n",
    "print(grouped_origin)"
   ]
  },
  {
   "cell_type": "code",
   "execution_count": null,
   "id": "0690cc6a-1847-452e-ac92-3c156c75eb9b",
   "metadata": {},
   "outputs": [],
   "source": []
  }
 ],
 "metadata": {
  "kernelspec": {
   "display_name": "Python 3 (ipykernel)",
   "language": "python",
   "name": "python3"
  },
  "language_info": {
   "codemirror_mode": {
    "name": "ipython",
    "version": 3
   },
   "file_extension": ".py",
   "mimetype": "text/x-python",
   "name": "python",
   "nbconvert_exporter": "python",
   "pygments_lexer": "ipython3",
   "version": "3.11.7"
  }
 },
 "nbformat": 4,
 "nbformat_minor": 5
}
